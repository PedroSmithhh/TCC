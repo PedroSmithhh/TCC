{
 "cells": [
  {
   "cell_type": "markdown",
   "id": "6d34aa25",
   "metadata": {},
   "source": [
    "### Multi-layer Perceptron (MLP)"
   ]
  },
  {
   "cell_type": "code",
   "execution_count": 5,
   "id": "afe50c07",
   "metadata": {},
   "outputs": [],
   "source": [
    "import pandas as pd\n",
    "from sklearn.model_selection import train_test_split, GridSearchCV\n",
    "from sklearn.preprocessing import StandardScaler\n",
    "from sklearn.neural_network import MLPClassifier\n",
    "from sklearn.metrics import classification_report, roc_auc_score, confusion_matrix, ConfusionMatrixDisplay\n",
    "import numpy as np\n",
    "import matplotlib.pyplot as plt\n",
    "from imblearn.over_sampling import SMOTE"
   ]
  },
  {
   "cell_type": "code",
   "execution_count": 6,
   "id": "d54109a7",
   "metadata": {},
   "outputs": [],
   "source": [
    "df = pd.read_csv('dataset_final_para_modelo.csv', decimal=',')"
   ]
  },
  {
   "cell_type": "code",
   "execution_count": 7,
   "id": "1aab7a2b",
   "metadata": {},
   "outputs": [],
   "source": [
    "# Seleciona as features finais (numéricas)\n",
    "y = df['Sinistro']\n",
    "X = df.drop(columns=['Sinistro', 'data'])"
   ]
  },
  {
   "cell_type": "code",
   "execution_count": 8,
   "id": "bda84421",
   "metadata": {},
   "outputs": [],
   "source": [
    "X_train, X_test, y_train, y_test = train_test_split(\n",
    "    X, y, test_size=0.3, random_state=8, stratify=y\n",
    ")\n",
    "\n",
    "X_train['tipo_via_num'] = X_train['tipo_via_num'].fillna(-1)\n",
    "X_test['tipo_via_num'] = X_test['tipo_via_num'].fillna(-1)\n",
    "\n",
    "scaler = StandardScaler()\n",
    "X_train_scaled = scaler.fit_transform(X_train)\n",
    "X_test_scaled = scaler.transform(X_test)\n",
    "\n",
    "smote = SMOTE(random_state=8) # Aumenta artificialmente o número de amostras da classe minoritária\n",
    "X_train_resampled, y_train_resampled = smote.fit_resample(X_train_scaled, y_train)"
   ]
  },
  {
   "cell_type": "code",
   "execution_count": 9,
   "id": "9cc36172",
   "metadata": {},
   "outputs": [
    {
     "name": "stdout",
     "output_type": "stream",
     "text": [
      "Iniciando o GridSearchCV para MLP (isto vai demorar MUITO)...\n",
      "Fitting 3 folds for each of 96 candidates, totalling 288 fits\n",
      "GridSearchCV para MLP concluído.\n",
      "\n",
      "Melhores parâmetros encontrados para MLP:\n",
      "{'activation': 'logistic', 'alpha': 0.01, 'hidden_layer_sizes': (50,), 'learning_rate_init': 0.01}\n",
      "\n",
      "Melhor pontuação (validação cruzada):\n",
      "0.7092815900843267\n"
     ]
    }
   ],
   "source": [
    "param_grid_mlp = {\n",
    "    'hidden_layer_sizes': [(50,), (100,), (50, 50), (100, 50)],\n",
    "    'activation': ['relu', 'tanh', 'logistic', 'identity'],\n",
    "    'alpha': [0.0001, 0.001, 0.01], # Diferentes níveis de regularização\n",
    "    'learning_rate_init': [0.001, 0.01] # Diferentes taxas de aprendizagem\n",
    "}\n",
    "\n",
    "mlp = MLPClassifier(\n",
    "    solver='adam',\n",
    "    max_iter=500, # Dê tempo suficiente para convergir\n",
    "    random_state=8,\n",
    "    early_stopping=True,\n",
    "    n_iter_no_change=10\n",
    "    )\n",
    "\n",
    "grid_search_mlp = GridSearchCV(\n",
    "    estimator=mlp,\n",
    "    param_grid=param_grid_mlp,\n",
    "    scoring='f1',\n",
    "    cv=3, # Validação Cruzada com 3 folds de mistura do conjunto de teste e treino\n",
    "    verbose=2,\n",
    "    n_jobs=-1\n",
    ")\n",
    "\n",
    "# 4. Execute a busca (A PARTE MAIS DEMORADA)\n",
    "print(\"Iniciando o GridSearchCV para MLP (isto vai demorar MUITO)...\")\n",
    "grid_search_mlp.fit(X_train_scaled, y_train)\n",
    "print(\"GridSearchCV para MLP concluído.\")\n",
    "\n",
    "# 5. Veja os melhores parâmetros encontrados\n",
    "print(\"\\nMelhores parâmetros encontrados para MLP:\")\n",
    "print(grid_search_mlp.best_params_)\n",
    "\n",
    "# 6. Veja a melhor pontuação F1-Score (ou AUC)\n",
    "print(\"\\nMelhor pontuação (validação cruzada):\")\n",
    "print(grid_search_mlp.best_score_)\n",
    "\n",
    "# 7. Avalie o melhor modelo encontrado no conjunto de teste\n",
    "best_mlp_model = grid_search_mlp.best_estimator_\n",
    "y_pred_best_mlp = best_mlp_model.predict(X_test_scaled)\n",
    "# (Calcule e imprima o classification_report e a AUC aqui)"
   ]
  },
  {
   "cell_type": "code",
   "execution_count": 10,
   "id": "0cd0daee",
   "metadata": {},
   "outputs": [
    {
     "name": "stdout",
     "output_type": "stream",
     "text": [
      "Inicializando o modelo MLP...\n",
      "Treinando o modelo MLP (pode demorar)...\n",
      "Treinamento concluído.\n"
     ]
    }
   ],
   "source": [
    "#    hidden_layer_sizes=(100, 50): Define a arquitetura - duas camadas ocultas, a 1ª com 100 neurónios, a 2ª com 50.\n",
    "#    activation='relu': Função de ativação comum e eficaz.\n",
    "#    solver='adam': O otimizador padrão e geralmente bom.\n",
    "#    alpha=0.0001: Termo de regularização L2 para evitar overfitting.\n",
    "#    max_iter=500: Número máximo de épocas de treino.\n",
    "#    random_state=8: Para reprodutibilidade.\n",
    "#    early_stopping=True: Para o treino se a performance não melhorar, evitando overfitting.\n",
    "print(\"Inicializando o modelo MLP...\")\n",
    "mlp_model = MLPClassifier(\n",
    "    hidden_layer_sizes=(100, 50),\n",
    "    activation='relu',\n",
    "    solver='adam',\n",
    "    alpha=0.0001,\n",
    "    max_iter=500,\n",
    "    random_state=8,\n",
    "    early_stopping=True, # Importante para evitar overfitting\n",
    "    n_iter_no_change=10 # Número de iterações sem melhora antes de parar\n",
    ")\n",
    "\n",
    "# 2. Treina o modelo com os dados ESCALONADOS\n",
    "print(\"Treinando o modelo MLP (pode demorar)...\")\n",
    "mlp_model.fit(X_train_resampled, y_train_resampled)\n",
    "print(\"Treinamento concluído.\")"
   ]
  },
  {
   "cell_type": "code",
   "execution_count": 11,
   "id": "6b5e1976",
   "metadata": {},
   "outputs": [
    {
     "name": "stdout",
     "output_type": "stream",
     "text": [
      "\n",
      "--- Avaliação do Modelo MLP ---\n",
      "\n",
      "--- Matriz de Confusão (MLP) ---\n",
      "\n",
      "--- Relatório de Classificação (MLP) ---\n",
      "              precision    recall  f1-score   support\n",
      "\n",
      "           0       0.83      0.98      0.90      4914\n",
      "           1       0.93      0.59      0.72      2457\n",
      "\n",
      "    accuracy                           0.85      7371\n",
      "   macro avg       0.88      0.78      0.81      7371\n",
      "weighted avg       0.86      0.85      0.84      7371\n",
      "\n",
      "--- AUC (MLP) ---\n",
      "0.8549\n"
     ]
    },
    {
     "data": {
      "image/png": "[encoded data removed]",
      "text/plain": [
       "<Figure size 640x480 with 2 Axes>"
      ]
     },
     "metadata": {},
     "output_type": "display_data"
    }
   ],
   "source": [
    "# 3. Faz as previsões e avalia, usando os dados de teste ESCALONADOS\n",
    "print(\"\\n--- Avaliação do Modelo MLP ---\")\n",
    "y_pred_mlp = mlp_model.predict(X_test_scaled)\n",
    "\n",
    "print(\"\\n--- Matriz de Confusão (MLP) ---\")\n",
    "cm = confusion_matrix(y_test, y_pred_mlp)\n",
    "ConfusionMatrixDisplay(cm).plot(cmap=plt.cm.Blues)\n",
    "\n",
    "print(\"\\n--- Relatório de Classificação (MLP) ---\")\n",
    "print(classification_report(y_test, y_pred_mlp))\n",
    "\n",
    "# Calcula a AUC (requer probabilidades)\n",
    "y_prob_mlp = mlp_model.predict_proba(X_test_scaled)[:, 1]\n",
    "auc_mlp = roc_auc_score(y_test, y_prob_mlp)\n",
    "print(f\"--- AUC (MLP) ---\")\n",
    "print(f\"{auc_mlp:.4f}\")"
   ]
  },
  {
   "cell_type": "code",
   "execution_count": 13,
   "id": "c1ccabf7",
   "metadata": {},
   "outputs": [
    {
     "name": "stdout",
     "output_type": "stream",
     "text": [
      "Inicializando o modelo MLP...\n",
      "Treinando o modelo MLP (pode demorar)...\n",
      "Treinamento concluído.\n"
     ]
    }
   ],
   "source": [
    "#    hidden_layer_sizes=(100, 50): Define a arquitetura - duas camadas ocultas, a 1ª com 100 neurónios, a 2ª com 50.\n",
    "#    activation='relu': Função de ativação comum e eficaz.\n",
    "#    solver='adam': O otimizador padrão e geralmente bom.\n",
    "#    alpha=0.0001: Termo de regularização L2 para evitar overfitting.\n",
    "#    max_iter=500: Número máximo de épocas de treino.\n",
    "#    random_state=8: Para reprodutibilidade.\n",
    "#    early_stopping=True: Para o treino se a performance não melhorar, evitando overfitting.\n",
    "print(\"Inicializando o modelo MLP...\")\n",
    "mlp_model = MLPClassifier(\n",
    "    hidden_layer_sizes=(50,),\n",
    "    activation='logistic',\n",
    "    solver='adam',\n",
    "    alpha=0.01,\n",
    "    max_iter=500,\n",
    "    random_state=8,\n",
    "    early_stopping=True, # Importante para evitar overfitting\n",
    "    n_iter_no_change=10, # Número de iterações sem melhora antes de parar\n",
    "    learning_rate_init=0.01\n",
    ")\n",
    "\n",
    "# 2. Treina o modelo com os dados ESCALONADOS\n",
    "print(\"Treinando o modelo MLP (pode demorar)...\")\n",
    "mlp_model.fit(X_train_resampled, y_train_resampled)\n",
    "print(\"Treinamento concluído.\")"
   ]
  },
  {
   "cell_type": "code",
   "execution_count": 14,
   "id": "219338da",
   "metadata": {},
   "outputs": [
    {
     "name": "stdout",
     "output_type": "stream",
     "text": [
      "\n",
      "--- Avaliação do Modelo MLP ---\n",
      "\n",
      "--- Matriz de Confusão (MLP) ---\n",
      "\n",
      "--- Relatório de Classificação (MLP) ---\n",
      "              precision    recall  f1-score   support\n",
      "\n",
      "           0       0.83      0.93      0.88      4914\n",
      "           1       0.82      0.63      0.71      2457\n",
      "\n",
      "    accuracy                           0.83      7371\n",
      "   macro avg       0.83      0.78      0.80      7371\n",
      "weighted avg       0.83      0.83      0.82      7371\n",
      "\n",
      "--- AUC (MLP) ---\n",
      "0.8537\n"
     ]
    },
    {
     "data": {
      "image/png": "[encoded data removed]",
      "text/plain": [
       "<Figure size 640x480 with 2 Axes>"
      ]
     },
     "metadata": {},
     "output_type": "display_data"
    }
   ],
   "source": [
    "# 3. Faz as previsões e avalia, usando os dados de teste ESCALONADOS\n",
    "print(\"\\n--- Avaliação do Modelo MLP ---\")\n",
    "y_pred_mlp = mlp_model.predict(X_test_scaled)\n",
    "\n",
    "print(\"\\n--- Matriz de Confusão (MLP) ---\")\n",
    "cm = confusion_matrix(y_test, y_pred_mlp)\n",
    "ConfusionMatrixDisplay(cm).plot(cmap=plt.cm.Blues)\n",
    "\n",
    "print(\"\\n--- Relatório de Classificação (MLP) ---\")\n",
    "print(classification_report(y_test, y_pred_mlp))\n",
    "\n",
    "# Calcula a AUC (requer probabilidades)\n",
    "y_prob_mlp = mlp_model.predict_proba(X_test_scaled)[:, 1]\n",
    "auc_mlp = roc_auc_score(y_test, y_prob_mlp)\n",
    "print(f\"--- AUC (MLP) ---\")\n",
    "print(f\"{auc_mlp:.4f}\")"
   ]
  }
 ],
 "metadata": {
  "kernelspec": {
   "display_name": "Python 3",
   "language": "python",
   "name": "python3"
  },
  "language_info": {
   "codemirror_mode": {
    "name": "ipython",
    "version": 3
   },
   "file_extension": ".py",
   "mimetype": "text/x-python",
   "name": "python",
   "nbconvert_exporter": "python",
   "pygments_lexer": "ipython3",
   "version": "3.12.4"
  }
 },
 "nbformat": 4,
 "nbformat_minor": 5
}
