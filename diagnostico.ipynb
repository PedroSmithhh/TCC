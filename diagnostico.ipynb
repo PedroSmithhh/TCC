{
 "cells": [
  {
   "cell_type": "markdown",
   "id": "fd3c22c5",
   "metadata": {},
   "source": [
    "### Análise de Sobreposição e Outliers com t-SNE"
   ]
  },
  {
   "cell_type": "code",
   "execution_count": 3,
   "id": "2914806b",
   "metadata": {},
   "outputs": [],
   "source": [
    "import seaborn as sns\n",
    "import matplotlib.pyplot as plt \n",
    "import pandas as pd\n",
    "from sklearn.manifold import TSNE\n",
    "from sklearn.preprocessing import StandardScaler"
   ]
  },
  {
   "cell_type": "code",
   "execution_count": null,
   "id": "da2300eb",
   "metadata": {},
   "outputs": [],
   "source": [
    "df = pd.read_csv('dataset_final_para_modelo.csv')\n",
    "\n",
    "acidentes = df[df['Sinistro']==1]\n",
    "nao_acidentes = df[df['Sinistro']==0]\n",
    "\n",
    "plt.figure(figsize=(14, 14))\n",
    "\n",
    "plt.scatter()"
   ]
  }
 ],
 "metadata": {
  "kernelspec": {
   "display_name": "Python 3",
   "language": "python",
   "name": "python3"
  },
  "language_info": {
   "codemirror_mode": {
    "name": "ipython",
    "version": 3
   },
   "file_extension": ".py",
   "mimetype": "text/x-python",
   "name": "python",
   "nbconvert_exporter": "python",
   "pygments_lexer": "ipython3",
   "version": "3.12.4"
  }
 },
 "nbformat": 4,
 "nbformat_minor": 5
}
